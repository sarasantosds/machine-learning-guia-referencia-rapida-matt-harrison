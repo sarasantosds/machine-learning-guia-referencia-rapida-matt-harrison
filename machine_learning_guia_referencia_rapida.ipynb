{
  "nbformat": 4,
  "nbformat_minor": 0,
  "metadata": {
    "colab": {
      "provenance": [],
      "authorship_tag": "ABX9TyMpwlSSKSW8wIud+7i2y4CO",
      "include_colab_link": true
    },
    "kernelspec": {
      "name": "python3",
      "display_name": "Python 3"
    },
    "language_info": {
      "name": "python"
    }
  },
  "cells": [
    {
      "cell_type": "markdown",
      "metadata": {
        "id": "view-in-github",
        "colab_type": "text"
      },
      "source": [
        "<a href=\"https://colab.research.google.com/github/sarasantosds/machine-learning-guia-referencia-rapida-matt-harrison/blob/main/machine_learning_guia_referencia_rapida.ipynb\" target=\"_parent\"><img src=\"https://colab.research.google.com/assets/colab-badge.svg\" alt=\"Open In Colab\"/></a>"
      ]
    },
    {
      "cell_type": "markdown",
      "source": [
        "# Machine Learning - Guia de Referência Rápida:\n",
        "## Trabalhando com dados estruturados em Python, de Matt Harrison"
      ],
      "metadata": {
        "id": "I26EOpRTmDJg"
      }
    },
    {
      "cell_type": "markdown",
      "source": [
        "## Capítulo 3: Descrição da classificação: conjunto de dados Titanic"
      ],
      "metadata": {
        "id": "GDU7rFy0mcz-"
      }
    },
    {
      "cell_type": "code",
      "execution_count": null,
      "metadata": {
        "id": "iMovF0lUl7BU"
      },
      "outputs": [],
      "source": []
    }
  ]
}